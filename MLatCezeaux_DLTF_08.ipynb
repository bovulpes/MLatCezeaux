{
 "cells": [
  {
   "cell_type": "code",
   "execution_count": 1,
   "id": "002b4dd1",
   "metadata": {},
   "outputs": [],
   "source": [
    "import tensorflow as tf\n",
    "import tensorflow_datasets as tfds\n",
    "import seaborn as sns\n",
    "import numpy as np\n",
    "import pandas as pd\n",
    "import matplotlib.pyplot as plt\n",
    "import matplotlib.image as mpimg\n",
    "import itertools"
   ]
  },
  {
   "cell_type": "code",
   "execution_count": 2,
   "id": "2f6b9251",
   "metadata": {},
   "outputs": [],
   "source": [
    "train_ds, test_ds = tfds.load('cifar10', split=['train','test'], as_supervised=True)"
   ]
  },
  {
   "cell_type": "code",
   "execution_count": 3,
   "id": "6b8caec1",
   "metadata": {},
   "outputs": [],
   "source": [
    "def normalize_resize(image, label):\n",
    "    image = tf.cast(image, tf.float32)\n",
    "    image = tf.divide(image, 255)\n",
    "    image = tf.image.resize(image, (28, 28))\n",
    "    return image, label\n",
    "\n",
    "def augment(image, label):\n",
    "    image = tf.image.random_flip_left_right(image)\n",
    "    image = tf.image.random_saturation(image, 0.7, 1.3)\n",
    "    image = tf.image.random_contrast(image, 0.8, 1.2)\n",
    "    image = tf.image.random_brightness(image, 0.1)\n",
    "    return image, label "
   ]
  },
  {
   "cell_type": "code",
   "execution_count": 4,
   "id": "61a0e405",
   "metadata": {},
   "outputs": [],
   "source": [
    "train = train_ds.map(normalize_resize).cache().map(augment).shuffle(100).batch(64).repeat()\n",
    "test = test_ds.map(normalize_resize).cache().batch(64)"
   ]
  },
  {
   "cell_type": "code",
   "execution_count": null,
   "id": "167bae73",
   "metadata": {},
   "outputs": [],
   "source": []
  }
 ],
 "metadata": {
  "kernelspec": {
   "display_name": "Python 3",
   "language": "python",
   "name": "python3"
  },
  "language_info": {
   "codemirror_mode": {
    "name": "ipython",
    "version": 3
   },
   "file_extension": ".py",
   "mimetype": "text/x-python",
   "name": "python",
   "nbconvert_exporter": "python",
   "pygments_lexer": "ipython3",
   "version": "3.6.9"
  }
 },
 "nbformat": 4,
 "nbformat_minor": 5
}
