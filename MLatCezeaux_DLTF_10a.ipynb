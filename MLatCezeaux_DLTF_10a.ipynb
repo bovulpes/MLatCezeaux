{
 "cells": [
  {
   "cell_type": "code",
   "execution_count": 1,
   "id": "4aa21ad3",
   "metadata": {},
   "outputs": [],
   "source": [
    "import tensorflow as tf\n",
    "import numpy as np"
   ]
  },
  {
   "cell_type": "code",
   "execution_count": 2,
   "id": "b3a2b4d0",
   "metadata": {},
   "outputs": [],
   "source": [
    "x_in = np.array([[\n",
    "  [[2], [1], [2], [0], [1]],\n",
    "  [[1], [3], [2], [2], [3]],\n",
    "  [[1], [1], [3], [3], [0]],\n",
    "  [[2], [2], [0], [1], [1]],\n",
    "  [[0], [0], [3], [1], [2]], ]])"
   ]
  },
  {
   "cell_type": "markdown",
   "id": "b3349002",
   "metadata": {},
   "source": [
    "## conv2d"
   ]
  },
  {
   "cell_type": "code",
   "execution_count": 3,
   "id": "1ae508da",
   "metadata": {},
   "outputs": [],
   "source": [
    "kernel_in = np.array([\n",
    " [ [[2, 0.1]], [[3, 0.2]] ],\n",
    " [ [[0, 0.3]],[[1, 0.4]] ], ])"
   ]
  },
  {
   "cell_type": "code",
   "execution_count": 4,
   "id": "d6be6715",
   "metadata": {},
   "outputs": [],
   "source": [
    "x = tf.constant(x_in, dtype=tf.float32)"
   ]
  },
  {
   "cell_type": "code",
   "execution_count": 5,
   "id": "576df545",
   "metadata": {},
   "outputs": [
    {
     "name": "stdout",
     "output_type": "stream",
     "text": [
      "(1, 5, 5, 1)\n"
     ]
    }
   ],
   "source": [
    "print(x.shape)"
   ]
  },
  {
   "cell_type": "code",
   "execution_count": 6,
   "id": "a96cfbd1",
   "metadata": {},
   "outputs": [],
   "source": [
    "kernel = tf.constant(kernel_in, dtype=tf.float32)"
   ]
  },
  {
   "cell_type": "code",
   "execution_count": 7,
   "id": "96b0b777",
   "metadata": {},
   "outputs": [
    {
     "name": "stdout",
     "output_type": "stream",
     "text": [
      "(2, 2, 1, 2)\n"
     ]
    }
   ],
   "source": [
    "print(kernel.shape)"
   ]
  },
  {
   "cell_type": "code",
   "execution_count": 8,
   "id": "11218c2b",
   "metadata": {},
   "outputs": [],
   "source": [
    "x_out = tf.nn.conv2d(x, kernel, strides=[1, 1, 1, 1], padding='VALID')"
   ]
  },
  {
   "cell_type": "code",
   "execution_count": 9,
   "id": "8465bcfe",
   "metadata": {},
   "outputs": [
    {
     "name": "stdout",
     "output_type": "stream",
     "text": [
      "tf.Tensor(\n",
      "[[[[10.         1.9      ]\n",
      "   [10.         2.2      ]\n",
      "   [ 6.         1.6      ]\n",
      "   [ 6.         2.       ]]\n",
      "\n",
      "  [[12.         1.4      ]\n",
      "   [15.         2.2      ]\n",
      "   [13.         2.7      ]\n",
      "   [13.         1.7      ]]\n",
      "\n",
      "  [[ 7.         1.7      ]\n",
      "   [11.         1.3000001]\n",
      "   [16.         1.3      ]\n",
      "   [ 7.         1.       ]]\n",
      "\n",
      "  [[10.         0.6      ]\n",
      "   [ 7.         1.4000001]\n",
      "   [ 4.         1.5      ]\n",
      "   [ 7.         1.4      ]]]], shape=(1, 4, 4, 2), dtype=float32)\n"
     ]
    }
   ],
   "source": [
    "print(x_out)"
   ]
  },
  {
   "cell_type": "markdown",
   "id": "4ce9e19a",
   "metadata": {},
   "source": [
    "## max_pool"
   ]
  },
  {
   "cell_type": "code",
   "execution_count": 10,
   "id": "89899dae",
   "metadata": {},
   "outputs": [],
   "source": [
    "x_out = tf.nn.max_pool(x, ksize=[1,2,2,1], strides=[1,1,1,1], padding=\"VALID\")"
   ]
  },
  {
   "cell_type": "code",
   "execution_count": 11,
   "id": "2aa5814b",
   "metadata": {},
   "outputs": [
    {
     "name": "stdout",
     "output_type": "stream",
     "text": [
      "tf.Tensor(\n",
      "[[[[3.]\n",
      "   [3.]\n",
      "   [2.]\n",
      "   [3.]]\n",
      "\n",
      "  [[3.]\n",
      "   [3.]\n",
      "   [3.]\n",
      "   [3.]]\n",
      "\n",
      "  [[2.]\n",
      "   [3.]\n",
      "   [3.]\n",
      "   [3.]]\n",
      "\n",
      "  [[2.]\n",
      "   [3.]\n",
      "   [3.]\n",
      "   [2.]]]], shape=(1, 4, 4, 1), dtype=float32)\n"
     ]
    }
   ],
   "source": [
    "print(x_out)"
   ]
  },
  {
   "cell_type": "markdown",
   "id": "b30b7684",
   "metadata": {},
   "source": [
    "## Dropout"
   ]
  },
  {
   "cell_type": "code",
   "execution_count": 13,
   "id": "80a68498",
   "metadata": {},
   "outputs": [
    {
     "name": "stdout",
     "output_type": "stream",
     "text": [
      "[[0. 1.]\n",
      " [2. 3.]\n",
      " [4. 5.]\n",
      " [6. 7.]\n",
      " [8. 9.]]\n"
     ]
    }
   ],
   "source": [
    "data = np.arange(10).reshape(5, 2).astype(np.float32)\n",
    "print(data)"
   ]
  },
  {
   "cell_type": "code",
   "execution_count": 14,
   "id": "f669859b",
   "metadata": {},
   "outputs": [],
   "source": [
    "tf.random.set_seed(0)\n",
    "layer = tf.keras.layers.Dropout(.2, input_shape=(2,))"
   ]
  },
  {
   "cell_type": "code",
   "execution_count": 15,
   "id": "7cc5bc51",
   "metadata": {},
   "outputs": [
    {
     "name": "stdout",
     "output_type": "stream",
     "text": [
      "tf.Tensor(\n",
      "[[ 0.    1.25]\n",
      " [ 2.5   3.75]\n",
      " [ 5.    6.25]\n",
      " [ 7.5   8.75]\n",
      " [10.    0.  ]], shape=(5, 2), dtype=float32)\n"
     ]
    }
   ],
   "source": [
    "outputs = layer(data, training=True)\n",
    "print(outputs)"
   ]
  },
  {
   "cell_type": "code",
   "execution_count": 16,
   "id": "23bae5ec",
   "metadata": {},
   "outputs": [
    {
     "name": "stdout",
     "output_type": "stream",
     "text": [
      "tf.Tensor(\n",
      "[[ 0.    1.25]\n",
      " [ 2.5   3.75]\n",
      " [ 5.    6.25]\n",
      " [ 0.    8.75]\n",
      " [10.   11.25]], shape=(5, 2), dtype=float32)\n"
     ]
    }
   ],
   "source": [
    "outputs = layer(data, training=True)\n",
    "print(outputs)"
   ]
  },
  {
   "cell_type": "code",
   "execution_count": 17,
   "id": "85d92836",
   "metadata": {},
   "outputs": [
    {
     "name": "stdout",
     "output_type": "stream",
     "text": [
      "tf.Tensor(\n",
      "[[ 0.    1.25]\n",
      " [ 2.5   3.75]\n",
      " [ 5.    0.  ]\n",
      " [ 7.5   8.75]\n",
      " [10.   11.25]], shape=(5, 2), dtype=float32)\n"
     ]
    }
   ],
   "source": [
    "outputs = layer(data, training=True)\n",
    "print(outputs)"
   ]
  },
  {
   "cell_type": "code",
   "execution_count": null,
   "id": "5ca91f0d",
   "metadata": {},
   "outputs": [],
   "source": []
  }
 ],
 "metadata": {
  "kernelspec": {
   "display_name": "Python 3",
   "language": "python",
   "name": "python3"
  },
  "language_info": {
   "codemirror_mode": {
    "name": "ipython",
    "version": 3
   },
   "file_extension": ".py",
   "mimetype": "text/x-python",
   "name": "python",
   "nbconvert_exporter": "python",
   "pygments_lexer": "ipython3",
   "version": "3.6.9"
  }
 },
 "nbformat": 4,
 "nbformat_minor": 5
}
