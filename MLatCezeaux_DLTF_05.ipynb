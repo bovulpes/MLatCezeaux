{
 "cells": [
  {
   "cell_type": "code",
   "execution_count": 1,
   "id": "dd860f34",
   "metadata": {},
   "outputs": [],
   "source": [
    "import sympy as sym\n",
    "from IPython.display import display, Latex, Markdown\n",
    "sym.init_printing(use_latex='mathjax')"
   ]
  },
  {
   "cell_type": "code",
   "execution_count": 2,
   "id": "97904325",
   "metadata": {},
   "outputs": [
    {
     "data": {
      "text/markdown": [
       "$$y(x_{1},x_{2}) = x_{1} x_{2} + \\log{\\left(x_{1} \\right)} - \\sin{\\left(x_{2} \\right)}$$"
      ],
      "text/plain": [
       "<IPython.core.display.Markdown object>"
      ]
     },
     "metadata": {},
     "output_type": "display_data"
    }
   ],
   "source": [
    "x1 = sym.Symbol('x_1')\n",
    "x2 = sym.Symbol('x_2')\n",
    "y = sym.Symbol('y')\n",
    "y = sym.log(x1)+x1*x2-sym.sin(x2)\n",
    "display(Markdown(\"$$\" + \"y(\" + sym.latex(x1) + \",\" + sym.latex(x2) + \") = \" + sym.latex(y) + \"$$\"))"
   ]
  },
  {
   "cell_type": "code",
   "execution_count": 3,
   "id": "337e55d8",
   "metadata": {},
   "outputs": [
    {
     "data": {
      "text/latex": [
       "$\\displaystyle \\left[\\begin{matrix}x_{2} + \\frac{1}{x_{1}} & x_{1} - \\cos{\\left(x_{2} \\right)}\\end{matrix}\\right]$"
      ],
      "text/plain": [
       "⎡     1               ⎤\n",
       "⎢x₂ + ──  x₁ - cos(x₂)⎥\n",
       "⎣     x₁              ⎦"
      ]
     },
     "execution_count": 3,
     "metadata": {},
     "output_type": "execute_result"
    }
   ],
   "source": [
    "S0 = sym.Matrix([x1,x2])\n",
    "V0 = sym.Matrix([y])\n",
    "Jacobian = V0.jacobian(S0)\n",
    "Jacobian"
   ]
  },
  {
   "cell_type": "code",
   "execution_count": null,
   "id": "2bd7de66",
   "metadata": {},
   "outputs": [],
   "source": []
  }
 ],
 "metadata": {
  "kernelspec": {
   "display_name": "Python 3",
   "language": "python",
   "name": "python3"
  },
  "language_info": {
   "codemirror_mode": {
    "name": "ipython",
    "version": 3
   },
   "file_extension": ".py",
   "mimetype": "text/x-python",
   "name": "python",
   "nbconvert_exporter": "python",
   "pygments_lexer": "ipython3",
   "version": "3.6.9"
  }
 },
 "nbformat": 4,
 "nbformat_minor": 5
}
